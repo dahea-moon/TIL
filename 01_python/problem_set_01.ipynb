{
 "cells": [
  {
   "cell_type": "markdown",
   "metadata": {},
   "source": [
    "# Problem set (Python intro & Control of Flow"
   ]
  },
  {
   "cell_type": "markdown",
   "metadata": {},
   "source": [
    "## 구구단 출력\n",
    "\n",
    "출력 결과 예시\n",
    "```\n",
    "----- 2 단 -----\n",
    "2 * 1 = 2\n",
    "2 * 2 = 4\n",
    "2 * 3 = 6\n",
    "...\n",
    "\n",
    "----- 3단 -----\n",
    "3 * 1 = 3\n",
    "3 * 2 = 6\n",
    "3 * 3 = 9\n",
    "...\n",
    "\n",
    "----- 9단 -----\n",
    "...\n",
    "9 * 8 = 72\n",
    "9 * 9 = 81\n",
    "```"
   ]
  },
  {
   "cell_type": "code",
   "execution_count": null,
   "metadata": {},
   "outputs": [],
   "source": [
    "# GO!\n",
    "for default in range(2,10):\n",
    "    print(f'-----{default}단-----')\n",
    "    for var in range(1, 10):\n",
    "        result = default * var\n",
    "        print(f'{default} * {var} = {result}')\n",
    "            "
   ]
  },
  {
   "cell_type": "markdown",
   "metadata": {},
   "source": [
    "## 소수 찾기\n",
    "\n",
    "> 2 부터 N 까지의 정수에서 소수를 찾아내기.\n",
    "\n",
    "출력 결과 예시(N 이 10 일 경우)\n",
    "```\n",
    "2\n",
    "3\n",
    "5\n",
    "7\n",
    "```\n",
    "\n",
    "### 추가 구현\n",
    "> 소수 판단 과정에서 소수가 아니라 판단되면, `break` 사용"
   ]
  },
  {
   "cell_type": "code",
   "execution_count": 18,
   "metadata": {},
   "outputs": [
    {
     "name": "stdout",
     "output_type": "stream",
     "text": [
      "2\n",
      "3\n",
      "5\n",
      "7\n"
     ]
    }
   ],
   "source": [
    "# GO!\n",
    "N = 10\n",
    "\n",
    "for i in range(2, N+1):\n",
    "    is_prime = True\n",
    "    for j in range(2, i):\n",
    "        if i % j == 0:\n",
    "            is_prime = False\n",
    "            break\n",
    "    \n",
    "    if is_prime:\n",
    "        print(i)"
   ]
  },
  {
   "cell_type": "code",
   "execution_count": 17,
   "metadata": {},
   "outputs": [
    {
     "name": "stdout",
     "output_type": "stream",
     "text": [
      "2\n",
      "3\n",
      "5\n",
      "7\n"
     ]
    }
   ],
   "source": [
    "N = 10\n",
    "\n",
    "for i in range(2, N+1):\n",
    "    for j in range(2, i):\n",
    "        if i % j == 0:\n",
    "            break\n",
    "    else:\n",
    "        print(i)"
   ]
  },
  {
   "cell_type": "markdown",
   "metadata": {},
   "source": [
    "## 팩토리얼 구현하기\n",
    "\n",
    "> n! = 1 * 2 * 3 ... n-1 * n\n",
    "\n",
    "출력 결과 예시\n",
    "```\n",
    "N 을 입력하세요: 5\n",
    "120\n",
    "```"
   ]
  },
  {
   "cell_type": "code",
   "execution_count": 20,
   "metadata": {},
   "outputs": [
    {
     "name": "stdout",
     "output_type": "stream",
     "text": [
      "자연수를 입력하시오.5\n",
      "120\n"
     ]
    }
   ],
   "source": [
    "# GO!\n",
    "n = int(input('자연수를 입력하시오.'))\n",
    "i = 1\n",
    "m = 1\n",
    "\n",
    "while i <= n:\n",
    "    m = m * i\n",
    "    i += 1\n",
    "    \n",
    "print(m)\n"
   ]
  },
  {
   "cell_type": "code",
   "execution_count": 19,
   "metadata": {},
   "outputs": [
    {
     "name": "stdout",
     "output_type": "stream",
     "text": [
      "120\n"
     ]
    }
   ],
   "source": [
    "import math\n",
    "\n",
    "result = math.factorial(5)\n",
    "print(result)"
   ]
  },
  {
   "cell_type": "code",
   "execution_count": 22,
   "metadata": {},
   "outputs": [
    {
     "name": "stdout",
     "output_type": "stream",
     "text": [
      "n 을 입력하세요: 5\n",
      "120\n"
     ]
    }
   ],
   "source": [
    "n = int(input('n 을 입력하세요: '))\n",
    "\n",
    "# 3 => 3 * 2 * 1\n",
    "result = 1\n",
    "for i in range(1, n+1):\n",
    "    result *= i\n",
    "\n",
    "print(result)\n"
   ]
  },
  {
   "cell_type": "code",
   "execution_count": 14,
   "metadata": {},
   "outputs": [
    {
     "name": "stdout",
     "output_type": "stream",
     "text": [
      "21 30\n"
     ]
    }
   ],
   "source": [
    "# 과일은 몇개?\n",
    "# 아래 코드에서 과일과 아닌 것을 구분하기\n",
    "\n",
    "basket = {\n",
    "    'apple' : 4, 'orange': 3, 'computer': 28,\n",
    "    'tv': 2, 'banana' : 5, 'tomato': 9\n",
    "    }\n",
    "\n",
    "fruits = ['apple', 'orange', 'banana', 'pear', 'tomato']\n",
    "\n",
    "# dictionary는 순회할 필요없다. 유일무이한 key값이기 때문에. for 문을 쓸 필요가 없음\n",
    "\n",
    "fruits_total = 0\n",
    "\n",
    "# fruits 안에 있는 요소들을\n",
    "for fruit in fruits:\n",
    "    if basket.get(fruit):\n",
    "        fruits_total += basket.get(fruit) # basket에서 꺼낸다\n",
    "\n",
    "nf_total = sum(basket.values()) - fruits_total        \n",
    "    \n",
    "print(fruits_total, nf_total)"
   ]
  },
  {
   "cell_type": "code",
   "execution_count": 13,
   "metadata": {},
   "outputs": [
    {
     "name": "stdout",
     "output_type": "stream",
     "text": [
      "21 30\n"
     ]
    }
   ],
   "source": [
    "f_total = nf_total = 0\n",
    "\n",
    "for k, v in basket.items():\n",
    "    if k in fruits:\n",
    "        f_total += v\n",
    "    else:\n",
    "        nf_total += v\n",
    "    \n",
    "print(f_total, nf_total)"
   ]
  },
  {
   "cell_type": "markdown",
   "metadata": {},
   "source": [
    "## 중첩 조건문 활용하기\n",
    "\n",
    "> 아래와 같이 유저 목록이 담긴 리스트가 있습니다. \n",
    "```\n",
    "users = [\n",
    "    {'id': 'john', 'password': 'qwer1234'},\n",
    "    {'id': 'neo', 'password': '12341234'},\n",
    "    {'id': 'jason', 'password': 'kingjason'},\n",
    "]\n",
    "```\n",
    "1) 사용자의 이름을 입력받아 \n",
    "2) 등록된 사용자일 경우 \n",
    "3) 비밀번호를 입력 받습니다. \n",
    "- 이때 비밀번호가 일치하는 경우 '환영합니다!' 라는 메시지를 출력하고 비밀번호가 틀릴 경우 '패스워드가 올바르지 않습니다.' 라는 메시지를 출력합니다. \n",
    "- 등록된 사용자가 아닌 경우 '존재하지 않는 사용자입니다.' 라는 메시지를 출력합니다. \n",
    "\n",
    "출력 결과 예시\n",
    "\n",
    "```\n",
    "id 를 입력하세요: neo\n",
    "password 를 입력하세요: 12341234\n",
    "환영합니다!\n",
    "```\n",
    "\n",
    "```\n",
    "id 를 입력하세요: john\n",
    "password 를 입력하세요: 123123\n",
    "패스워드가 올바르지 않습니다.\n",
    "```\n",
    "\n",
    "```\n",
    "id 를 입력하세요: JASON\n",
    "존재하지 않는 사용자 입니다.\n",
    "```\n",
    "\n",
    "### 추가 구현\n",
    "> id 혹은 pw 가 틀렸을 경우 맞을 때 까지 계속 물어보게 구현하기"
   ]
  },
  {
   "cell_type": "code",
   "execution_count": 2,
   "metadata": {},
   "outputs": [
    {
     "name": "stdout",
     "output_type": "stream",
     "text": [
      "id를 입력하세요: neo\n",
      "존재하지 않는 사용자 입니다.\n",
      "존재하지 않는 사용자 입니다.\n",
      "password를 입력하세요: 12341234\n",
      "존재하지 않는 사용자 입니다.\n",
      "존재하지 않는 사용자 입니다.\n",
      "패스워드가 올바르지 않습니다.\n",
      "패스워드가 올바르지 않습니다.\n",
      "패스워드가 올바르지 않습니다.\n",
      "환영합니다!\n",
      "패스워드가 올바르지 않습니다.\n",
      "패스워드가 올바르지 않습니다.\n"
     ]
    }
   ],
   "source": [
    "# users 안의 id 와 password 는 바꿔도 상관 없습니다.\n",
    "users = [\n",
    "    {'id': 'john', 'password': 'qwer1234'},\n",
    "    {'id': 'neo', 'password': '12341234'},\n",
    "    {'id': 'jason', 'password': 'kingjason'},\n",
    "]\n",
    "\n",
    "user_id = input('id를 입력하세요: ')\n",
    "\n",
    "for i in range(0,3):\n",
    "    for s_id in users[i].values():\n",
    "        if user_id == s_id:\n",
    "            user_pwd = input('password를 입력하세요: ')\n",
    "            break\n",
    "        else:\n",
    "            print('존재하지 않는 사용자 입니다.')\n",
    "\n",
    "for i in range(0,3):\n",
    "    for s_pwd in users[i].values():\n",
    "        if user_pwd == s_pwd:\n",
    "            print('환영합니다!')\n",
    "            break\n",
    "        else:\n",
    "            print('패스워드가 올바르지 않습니다.')\n"
   ]
  },
  {
   "cell_type": "code",
   "execution_count": 22,
   "metadata": {},
   "outputs": [
    {
     "name": "stdout",
     "output_type": "stream",
     "text": [
      "id를 입력하세요: neo\n",
      "password를 입력하세요: 12341234\n",
      "환영합니다!\n"
     ]
    }
   ],
   "source": [
    "# users 안의 id 와 password 는 바꿔도 상관 없습니다.\n",
    "users = [\n",
    "    {'id': 'john', 'password': 'qwer1234'},\n",
    "    {'id': 'neo', 'password': '12341234'},\n",
    "    {'id': 'jason', 'password': 'kingjason'},\n",
    "]\n",
    "\n",
    "user_id = input('id를 입력하세요: ')\n",
    "\n",
    "for user in users:\n",
    "    if user_id == user.get('id'):\n",
    "        user_pwd = input('password를 입력하세요: ')\n",
    "        if user_pwd == user.get('password'):\n",
    "            print('환영합니다!')\n",
    "        else:\n",
    "            print('패스워드가 올바르지 않습니다.')\n",
    "        break\n",
    "else:\n",
    "    print('존재하지 않는 사용자 입니다.')\n",
    "        "
   ]
  },
  {
   "cell_type": "code",
   "execution_count": 1,
   "metadata": {},
   "outputs": [
    {
     "name": "stdout",
     "output_type": "stream",
     "text": [
      "id를 입력하세요: neo\n",
      "password를 입력하세요: 123\n",
      "패스워드가 올바르지 않습니다.\n",
      "password를 입력하세요: 12341234\n",
      "환영합니다!\n"
     ]
    }
   ],
   "source": [
    "users = [\n",
    "    {'id': 'john', 'password': 'qwer1234'},\n",
    "    {'id': 'neo', 'password': '12341234'},\n",
    "    {'id': 'jason', 'password': 'kingjason'},\n",
    "]\n",
    "\n",
    "find_id = find_pw = False\n",
    "\n",
    "while not find_id:\n",
    "    user_id = input('id를 입력하세요: ')\n",
    "    for user in users:\n",
    "        if user_id == user.get('id'):\n",
    "            find_id = True\n",
    "            \n",
    "            while not find_pw:\n",
    "                user_pwd = input('password를 입력하세요: ')\n",
    "                if user_pwd == user.get('password'):\n",
    "                    find_pw = True\n",
    "                    print('환영합니다!')\n",
    "                else:\n",
    "                    print('패스워드가 올바르지 않습니다.')\n",
    "            break\n",
    "    else:\n",
    "        print('존재하지 않는 사용자 입니다.')\n",
    "        "
   ]
  }
 ],
 "metadata": {
  "kernelspec": {
   "display_name": "Python 3",
   "language": "python",
   "name": "python3"
  },
  "language_info": {
   "codemirror_mode": {
    "name": "ipython",
    "version": 3
   },
   "file_extension": ".py",
   "mimetype": "text/x-python",
   "name": "python",
   "nbconvert_exporter": "python",
   "pygments_lexer": "ipython3",
   "version": "3.7.3"
  }
 },
 "nbformat": 4,
 "nbformat_minor": 2
}
