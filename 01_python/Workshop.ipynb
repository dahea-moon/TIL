{
 "cells": [
  {
   "cell_type": "code",
   "execution_count": null,
   "metadata": {},
   "outputs": [],
   "source": [
    "# 1. 사각형 출력\n",
    "n = 5\n",
    "m = 9\n",
    "\n",
    "for i in range(m):\n",
    "    print(n * '*')"
   ]
  },
  {
   "cell_type": "code",
   "execution_count": null,
   "metadata": {},
   "outputs": [],
   "source": [
    "# 2. dictionary 평균 점수 출력\n",
    "student = {'python': 80, 'algorith': 99, 'django': 89, 'flask': 83}\n",
    "\n",
    "scores = list(student.values())\n",
    "sums = sum(scores)\n",
    "\n",
    "print(sums / len(scores))"
   ]
  },
  {
   "cell_type": "markdown",
   "metadata": {},
   "source": [
    "## day03 workshop"
   ]
  },
  {
   "cell_type": "code",
   "execution_count": 7,
   "metadata": {},
   "outputs": [
    {
     "data": {
      "text/plain": [
       "True"
      ]
     },
     "execution_count": 7,
     "metadata": {},
     "output_type": "execute_result"
    }
   ],
   "source": [
    "# palindrome\n",
    "\"Madam in Eden, I'm Adam\"\n",
    "def panlindrome(word):\n",
    "    word = str.lower(word)\n",
    "    word = word.replace(' ','')\n",
    "    word = word.replace(',','')\n",
    "        \n",
    "    return word == word[::-1]\n",
    "    \n",
    "panlindrome('Madam in Eden, Im Adam')  "
   ]
  },
  {
   "cell_type": "markdown",
   "metadata": {},
   "source": [
    "## day04 workshop"
   ]
  },
  {
   "cell_type": "code",
   "execution_count": 27,
   "metadata": {},
   "outputs": [
    {
     "name": "stdout",
     "output_type": "stream",
     "text": [
      "1.7320508072152734\n"
     ]
    }
   ],
   "source": [
    "import math\n",
    "\n",
    "def bisection(n, minimum=0, maximum=1):\n",
    "    if minimum ** 2 == n:\n",
    "        return minimum\n",
    "    elif maximum ** 2 == n:\n",
    "        return maximum\n",
    "    else:\n",
    "        while not math.isclose(minimum, maximum):\n",
    "            if minimum ** 2 < n < maximum ** 2:\n",
    "                guess = (minimum + maximum) / 2\n",
    "                if n > guess ** 2:\n",
    "                    minimum = guess\n",
    "                else:\n",
    "                    maximum = guess\n",
    "            else:\n",
    "                minimum, maximum = maximum, maximum + 1\n",
    "        return minimum\n",
    "\n",
    "print(bisection(3))\n",
    "        \n",
    "        "
   ]
  },
  {
   "cell_type": "code",
   "execution_count": 29,
   "metadata": {},
   "outputs": [],
   "source": [
    "def bis(n):\n",
    "    minimum, maximum = 1, n\n",
    "    guess = 1\n",
    "    \n",
    "    while not math.isclose(result ** 2, n):\n",
    "        guess = (minimum + maximum) / 2\n",
    "        if guess ** 2 < n:\n",
    "            minimum = guess\n",
    "        else: \n",
    "            maximum = guess\n",
    "    return guess"
   ]
  },
  {
   "cell_type": "code",
   "execution_count": 33,
   "metadata": {},
   "outputs": [
    {
     "name": "stdout",
     "output_type": "stream",
     "text": [
      "5.830951891839504\n",
      "5.830951894845301\n"
     ]
    }
   ],
   "source": [
    "import math\n",
    "\n",
    "def bis(n, minimum=0, maximum=1):\n",
    "    if minimum ** 2 == n:\n",
    "        return minimum\n",
    "    elif maximum ** 2 == n:\n",
    "        return maximum\n",
    "    elif math.isclose(minimum, maximum):\n",
    "        return minimum\n",
    "    \n",
    "    if minimum ** 2 < n < maximum ** 2:\n",
    "        guess = (minimum + maximum) / 2\n",
    "        if guess ** 2 > n:\n",
    "            return bis(n, minimum, guess)\n",
    "        else: \n",
    "            return bis(n, guess, maximum)\n",
    "    else:\n",
    "        minimum, maximum = maximum, maximum + 1\n",
    "        return bis(n, minimum, maximum)\n",
    "    \n",
    "print(bis(34))\n",
    "print(34 ** (1/2))"
   ]
  },
  {
   "cell_type": "markdown",
   "metadata": {},
   "source": [
    "## workshop 05"
   ]
  },
  {
   "cell_type": "code",
   "execution_count": 7,
   "metadata": {},
   "outputs": [
    {
     "name": "stdout",
     "output_type": "stream",
     "text": [
      "9\n"
     ]
    }
   ],
   "source": [
    "import calc\n",
    "\n",
    "result = calc.add(4,5)\n",
    "print(result)"
   ]
  },
  {
   "cell_type": "code",
   "execution_count": 9,
   "metadata": {},
   "outputs": [
    {
     "name": "stdout",
     "output_type": "stream",
     "text": [
      "0으로 나눌 수 없습니다.\n"
     ]
    }
   ],
   "source": [
    "result = calc.div(4,0)\n",
    "print(result)"
   ]
  },
  {
   "cell_type": "code",
   "execution_count": 11,
   "metadata": {},
   "outputs": [
    {
     "name": "stdout",
     "output_type": "stream",
     "text": [
      "2.0\n"
     ]
    }
   ],
   "source": [
    "result = calc.div(4,2)\n",
    "print(result)"
   ]
  },
  {
   "cell_type": "code",
   "execution_count": 12,
   "metadata": {},
   "outputs": [
    {
     "name": "stdout",
     "output_type": "stream",
     "text": [
      "1\n"
     ]
    }
   ],
   "source": [
    "result = calc.sub(4,5)\n",
    "print(result)"
   ]
  },
  {
   "cell_type": "code",
   "execution_count": 13,
   "metadata": {},
   "outputs": [
    {
     "name": "stdout",
     "output_type": "stream",
     "text": [
      "20\n"
     ]
    }
   ],
   "source": [
    "result = calc.mul(4,5)\n",
    "print(result)"
   ]
  },
  {
   "cell_type": "markdown",
   "metadata": {},
   "source": [
    "## workshop 07"
   ]
  },
  {
   "cell_type": "code",
   "execution_count": 1,
   "metadata": {},
   "outputs": [],
   "source": [
    "class Animal:\n",
    "    def __init__(self, name):\n",
    "        self.name = name\n",
    "        \n",
    "    def walk(self):\n",
    "        print(f'{self.name}! 걷는다!')\n",
    "        \n",
    "    def eat(self):\n",
    "        print(f'{self.name}! 먹는다!')"
   ]
  },
  {
   "cell_type": "code",
   "execution_count": 7,
   "metadata": {},
   "outputs": [],
   "source": [
    "class Dog(Animal):\n",
    "    def __init__(self, name):\n",
    "        super().__init__(name)\n",
    "    \n",
    "    def walk(self):\n",
    "        print(f'{self.name}! 달린다!')\n",
    "    \n",
    "    def run(self):\n",
    "        print(f'{self.name}! 달린다!')"
   ]
  },
  {
   "cell_type": "code",
   "execution_count": 3,
   "metadata": {},
   "outputs": [],
   "source": [
    "class Bird(Animal):\n",
    "    def __init__(self, name):\n",
    "        super().__init__(name)\n",
    "    \n",
    "    def fly(self):\n",
    "        print(f'{self.name}! 푸드덕!')"
   ]
  },
  {
   "cell_type": "code",
   "execution_count": 8,
   "metadata": {},
   "outputs": [],
   "source": [
    "dog = Dog('바둑이')\n",
    "bird = Bird('구구')"
   ]
  },
  {
   "cell_type": "code",
   "execution_count": 9,
   "metadata": {},
   "outputs": [
    {
     "name": "stdout",
     "output_type": "stream",
     "text": [
      "바둑이! 달린다!\n",
      "바둑이! 달린다!\n"
     ]
    }
   ],
   "source": [
    "dog.walk()\n",
    "dog.run()"
   ]
  },
  {
   "cell_type": "code",
   "execution_count": 10,
   "metadata": {},
   "outputs": [
    {
     "name": "stdout",
     "output_type": "stream",
     "text": [
      "구구! 걷는다!\n",
      "구구! 먹는다!\n",
      "구구! 푸드덕!\n"
     ]
    }
   ],
   "source": [
    "bird.walk()\n",
    "bird.eat()\n",
    "bird.fly()"
   ]
  }
 ],
 "metadata": {
  "kernelspec": {
   "display_name": "Python 3",
   "language": "python",
   "name": "python3"
  },
  "language_info": {
   "codemirror_mode": {
    "name": "ipython",
    "version": 3
   },
   "file_extension": ".py",
   "mimetype": "text/x-python",
   "name": "python",
   "nbconvert_exporter": "python",
   "pygments_lexer": "ipython3",
   "version": "3.7.3"
  }
 },
 "nbformat": 4,
 "nbformat_minor": 2
}
