{
 "cells": [
  {
   "cell_type": "code",
   "execution_count": 24,
   "metadata": {},
   "outputs": [],
   "source": [
    "from IPython.display import IFrame"
   ]
  },
  {
   "cell_type": "markdown",
   "metadata": {},
   "source": [
    "# OOP with python\n",
    "\n",
    "## 시작하기전에\n",
    "\n",
    "<wikipedia - 객체지향 프로그래밍> \n",
    ">\n",
    "> 객체 지향 프로그래밍(영어: Object-Oriented Programming, OOP)은 컴퓨터 프로그래밍의 패러다임의 하나이다. 객체 지향 프로그래밍은 컴퓨터 프로그램을 명령어의 목록으로 보는 시각에서 벗어나 여러 개의 독립된 단위, 즉 \"객체\"들의 모임으로 파악하고자 하는 것이다. 각각의 객체는 메시지를 주고받고, 데이터를 처리할 수 있다.\n",
    ">\n",
    "> 명령형 프로그래밍인 절차지향 프로그래밍에서 발전된 형태를 나타내며, 기본 구성요소는 다음과 같다.\n",
    "\n",
    "* 클래스(Class) \n",
    "    - 같은 종류(또는 문제 해결을 위한)의 집단에 속하는 **속성(attribute)**과 **행위(behavior)**를 정의한 것으로 객체지향 프로그램의 기본적인 사용자 정의 데이터형(user define data type)이라고 할 수 있다\n",
    "    - 클래스는 프로그래머가 아니지만 해결해야 할 문제가 속하는 영역에 종사하는 사람이라면 사용할 수 있고, 다른 클래스 또는 외부 요소와 독립적으로 디자인하여야 한다.\n",
    "\n",
    "\n",
    "* 인스턴스(instance) \n",
    "    - 클래스의 인스턴스/객체(실제로 메모리상에 할당된 것)이다. \n",
    "    - 객체는 자신 고유의 속성(attribute)을 가지며 클래스에서 정의한 행위(behavior)를 수행할 수 있다. \n",
    "    - 객체의 행위는 클래스에 정의된 행위에 대한 정의(메서드)를 공유함으로써 메모리를 경제적으로 사용한다.\n",
    "\n",
    "\n",
    "* 속성(attribute) \n",
    "    - 클래스/인스턴스 가 가지고 있는 속성(값)\n",
    "\n",
    "\n",
    "* 메서드(Method) \n",
    "    - 클래스/인스턴스 가 할 수 있는 행위(함수)"
   ]
  },
  {
   "cell_type": "markdown",
   "metadata": {},
   "source": [
    "\n",
    "\n",
    "| class / type | instance                 | attributes       | methods                                |\n",
    "| ------------ | ------------------------ | ---------------- | -------------------------------------- |\n",
    "| `str`        | `''`, `'hello'`, `'123'` |       _          | `.capitalize()`, `.join()`, `.split()` |\n",
    "| `list`       | `[]`, `['a', 'b']`       |       _          | `.append()`, `reverse()`, `sort()`     |\n",
    "| `dict`       | `{}`, `{'key': 'value'}` |       _          | `.keys()`, `.values()`, `.items().`    |\n",
    "| `int`        | `0`, `1`, `2`            | `.real`, `.imag` |                                        |"
   ]
  },
  {
   "cell_type": "code",
   "execution_count": 4,
   "metadata": {},
   "outputs": [
    {
     "name": "stdout",
     "output_type": "stream",
     "text": [
      "<class 'complex'>\n"
     ]
    }
   ],
   "source": [
    "# 복소수를 하나 만들어보고, 타입을 출력해봅시다.\n",
    "img_n = 3 +4j\n",
    "print(type(img_n))\n",
    "# img_n은 클래스는 complex이다.\n",
    "# img_n은 complex 클래스의 인스턴스이다.\n",
    "# img_n은 객체이다."
   ]
  },
  {
   "cell_type": "markdown",
   "metadata": {},
   "source": [
    "> 위에서 말한 속성(값)과 행위(메서드)를 명확히 구분해 봅시다\n",
    "\n",
    "* `complex` class의 객체들의 속성들을 확인해 봅시다."
   ]
  },
  {
   "cell_type": "code",
   "execution_count": 5,
   "metadata": {},
   "outputs": [
    {
     "name": "stdout",
     "output_type": "stream",
     "text": [
      "3.0 4.0\n"
     ]
    }
   ],
   "source": [
    "# 허수부랑 실수부를 함께 출력해봅시다. complex 객체의 실수 속성(real)과 허수 속성(imag)이라고도 표현 가능합니다.\n",
    "print(img_n.real, img_n.imag)"
   ]
  },
  {
   "cell_type": "markdown",
   "metadata": {},
   "source": [
    "* `list` class의 객체들이 할 수 있는 행위(메서드)들을 확인해 봅시다."
   ]
  },
  {
   "cell_type": "code",
   "execution_count": 7,
   "metadata": {},
   "outputs": [
    {
     "name": "stdout",
     "output_type": "stream",
     "text": [
      "<class 'list'> [3, 2, 1]\n",
      "<class 'list'> [1, 2, 3]\n"
     ]
    }
   ],
   "source": [
    "# 리스트를 하나 만들고 정렬해봅시다. list 객체의 메서드 실행이라고도 표현 가능합니다.\n",
    "my_list = [3, 2, 1]\n",
    "print(type(my_list), my_list)\n",
    "\n",
    "# 정의: list는 sort()라는 행동을 할 수 있다. sort는 ~~하게 동작한다.\n",
    "my_list.sort()\n",
    "print(type(my_list), my_list)"
   ]
  },
  {
   "cell_type": "code",
   "execution_count": 8,
   "metadata": {},
   "outputs": [
    {
     "name": "stdout",
     "output_type": "stream",
     "text": [
      "['__add__', '__class__', '__contains__', '__delattr__', '__delitem__', '__dir__', '__doc__', '__eq__', '__format__', '__ge__', '__getattribute__', '__getitem__', '__gt__', '__hash__', '__iadd__', '__imul__', '__init__', '__init_subclass__', '__iter__', '__le__', '__len__', '__lt__', '__mul__', '__ne__', '__new__', '__reduce__', '__reduce_ex__', '__repr__', '__reversed__', '__rmul__', '__setattr__', '__setitem__', '__sizeof__', '__str__', '__subclasshook__', 'append', 'clear', 'copy', 'count', 'extend', 'index', 'insert', 'pop', 'remove', 'reverse', 'sort']\n"
     ]
    }
   ],
   "source": [
    "# list class 의 객체들이 할 수 있는 것들을 알아봅시다. (list 객체가 가지고 있는 모든 속성과 메서드를 보여줍니다.)\n",
    "print(dir([]))"
   ]
  },
  {
   "cell_type": "markdown",
   "metadata": {},
   "source": [
    "## 실습 (without OOP)\n",
    "\n",
    "> 프로그래밍으로, 현재 나의 핸드폰을 코드로 옮겨봅시다.\n",
    "\n",
    "**정답은 없습니다. 자유롭게 구현해 봅시다.**\n",
    "\n",
    "* 핸드폰은 다음과 같은 속성(값)을 가지고 있습니다.\n",
    "    * 전원(`power`) - `bool`\n",
    "    * 내 전화번호(`number`) - `str`\n",
    "    * 전화번호부(`book`) - `dict`\n",
    "    * 모델명(`model`) - `str`\n",
    "\n",
    "* 핸드폰은 다음과 같은 다음과 같은 행동(함수)을 할 수 있습니다.\n",
    "    * 켜기(`on()`)\n",
    "    * 끄기(`off()`)\n",
    "    * 내 전화번호 설정하기(`set_my_number(number)`)\n",
    "    * 전화걸기(`call(number)`)\n",
    "    * 전화번호부에 번호 저장하기(`save(name, number)`)"
   ]
  },
  {
   "cell_type": "code",
   "execution_count": 25,
   "metadata": {},
   "outputs": [],
   "source": [
    "# 아래에 자유롭게 코드를 작성해보세요.\n",
    "power = False\n",
    "number = ''\n",
    "book = {}\n",
    "model = 'samsung galaxy s10'\n",
    "\n",
    "def on():\n",
    "    global power\n",
    "    if not power:\n",
    "        power = True\n",
    "        \n",
    "        \n",
    "def off():\n",
    "    global power\n",
    "    if not power:\n",
    "        power = False\n",
    "\n",
    "def set_my_number(input_number):\n",
    "    global power, number\n",
    "    if power:\n",
    "        number = input_number\n",
    "        book[my] = number\n",
    "    \n",
    "def save(name, number):\n",
    "    global power\n",
    "    if power:\n",
    "        book[name] = number # 번호 새로저장/ 기존 번호 수정\n",
    "        return book\n",
    "    \n",
    "def call(name):\n",
    "    global power, book\n",
    "    if power:\n",
    "        if name in book:\n",
    "            print(f'{book[name]}에 전화중')\n",
    "        else:\n",
    "            print(f'{name}에 전화 중')"
   ]
  },
  {
   "cell_type": "code",
   "execution_count": 17,
   "metadata": {},
   "outputs": [],
   "source": [
    "# 핸드폰을 켜지 않고 이런저런 일을 해 봅시다.\n",
    "call('112')"
   ]
  },
  {
   "cell_type": "code",
   "execution_count": 18,
   "metadata": {},
   "outputs": [],
   "source": [
    "# 핸드폰을 켜봅시다.\n",
    "on()"
   ]
  },
  {
   "cell_type": "code",
   "execution_count": 25,
   "metadata": {},
   "outputs": [],
   "source": [
    "# 켜지지 않습니다.. 어째서 그런 걸까요?"
   ]
  },
  {
   "cell_type": "code",
   "execution_count": 21,
   "metadata": {},
   "outputs": [
    {
     "data": {
      "text/plain": [
       "{'엄마': '01042354265'}"
      ]
     },
     "execution_count": 21,
     "metadata": {},
     "output_type": "execute_result"
    }
   ],
   "source": [
    "# save 를 통해 번호를 저장해 봅시다.\n",
    "save('엄마', '01042354265')"
   ]
  },
  {
   "cell_type": "code",
   "execution_count": 26,
   "metadata": {},
   "outputs": [],
   "source": [
    "# call 을 통해 전화를 걸어봅시다.\n",
    "call('엄마')"
   ]
  },
  {
   "cell_type": "markdown",
   "metadata": {},
   "source": [
    "### 문제점\n",
    "\n",
    "현재 코드로 구현한 핸드폰에서 잘못되었다고 느껴지거나 문제가 발생할 만한 요소들을 이야기 해 봅시다. \n",
    "\n",
    "기존의 방식대로 다른 사람의 핸드폰을 구현해야 한다면? 그 수가 엄청 많다면?? 새 파일(모듈)?\n",
    "\n",
    "* 구역화가 안됬기 때문이다."
   ]
  },
  {
   "cell_type": "markdown",
   "metadata": {},
   "source": [
    "# 클래스 및 인스턴스"
   ]
  },
  {
   "cell_type": "markdown",
   "metadata": {},
   "source": [
    "## 클래스 정의하기 (클래스 객체 생성하기)\n",
    "\n",
    "```python\n",
    "class ClassName:\n",
    "    \n",
    "```\n",
    "\n",
    "* 선언과 동시에 클래스 객체가 생성됨.\n",
    "\n",
    "* 또한, 선언된 공간은 지역 스코프로 사용된다.\n",
    "\n",
    "* 정의된 어트리뷰트 중 변수는 멤버 변수로 불리운다.\n",
    "\n",
    "* 정의된 함수(`def`)는 메서드로 불리운다."
   ]
  },
  {
   "cell_type": "code",
   "execution_count": 27,
   "metadata": {},
   "outputs": [],
   "source": [
    "# Class를 만들어봅시다.\n",
    "class TestClass:\n",
    "    \"\"\"\n",
    "    This is Test Class\n",
    "    \"\"\"\n",
    "    name = '테스트 클래스'"
   ]
  },
  {
   "cell_type": "markdown",
   "metadata": {},
   "source": [
    "## 인스턴스 생성하기\n",
    "\n",
    "* 인스턴스 객체는 `ClassName()`을 호출함으로써 선언된다.\n",
    "\n",
    "* 인스턴스 객체와 클래스 객체는 서로 다른 이름 공간을 가지고 있다.\n",
    "\n",
    "* **인스턴스 => 클래스 => 전역 순으로 탐색을 한다.**"
   ]
  },
  {
   "cell_type": "code",
   "execution_count": 29,
   "metadata": {},
   "outputs": [
    {
     "name": "stdout",
     "output_type": "stream",
     "text": [
      "<class '__main__.TestClass'>\n",
      "\n",
      "    This is Test Class\n",
      "    \n"
     ]
    }
   ],
   "source": [
    "# TestClass 의 인스턴스를 만들어 봅시다.\n",
    "tc = TestClass()\n",
    "\n",
    "print(type(tc))\n",
    "print(tc.__doc__)"
   ]
  },
  {
   "cell_type": "code",
   "execution_count": 33,
   "metadata": {},
   "outputs": [
    {
     "name": "stdout",
     "output_type": "stream",
     "text": [
      "점심\n"
     ]
    }
   ],
   "source": [
    "a= 1\n",
    "\n",
    "def aa():\n",
    "    a = '점심'\n",
    "    print(a)\n",
    "\n",
    "aa()"
   ]
  },
  {
   "cell_type": "code",
   "execution_count": 31,
   "metadata": {},
   "outputs": [
    {
     "data": {
      "text/plain": [
       "'나는 클래스가 아니라 인스턴스야!'"
      ]
     },
     "execution_count": 31,
     "metadata": {},
     "output_type": "execute_result"
    }
   ],
   "source": [
    "# namespace..?\n",
    "tc.name  # tc 는 name이 없습니다. 그냥 class 에서 얻어걸립니다.\n",
    "tc.name = '나는 클래스가 아니라 인스턴스야!'\n",
    "tc.name # tc의 name 은 '나는 ...야!'"
   ]
  },
  {
   "cell_type": "markdown",
   "metadata": {},
   "source": [
    "* 선언시 `self`는 반드시 작성해주세요! 아래에서 다시 다룹니다."
   ]
  },
  {
   "cell_type": "code",
   "execution_count": null,
   "metadata": {},
   "outputs": [],
   "source": [
    "# 이름짓기 컨벤션\n",
    "# my_fist_name  => snake_case (변수이름)\n",
    "# MyFirstName   => UpperCamelCase (사용자가 만드는 class 이름)\n",
    "# myFirstName   => lowerCamelCase (python에서 사용하지 않음)"
   ]
  },
  {
   "cell_type": "code",
   "execution_count": 35,
   "metadata": {},
   "outputs": [],
   "source": [
    "# Phone 클래스를 만들어봅시다.\n",
    "class Phone:     # class 컨벤션: 첫글자는 늘 대문자이고, 띄어쓰기나 _ 없이 짓는다\n",
    "    power = False\n",
    "    number = ''\n",
    "    book = {}\n",
    "    model = 'UNKNOWN PHONE'\n",
    "    \n",
    "    def on(self):      #self는 class instance/객체가 스스로 들어가는 것을 지시\n",
    "        if not self.power:\n",
    "            self.power = True\n",
    "            print('----------------')\n",
    "            print(self.model)\n",
    "            print('----------------')\n",
    "            \n",
    "    def off(self):\n",
    "        if self.power:\n",
    "            self.power = False\n",
    "            print('--------OFF--------')\n",
    "    "
   ]
  },
  {
   "cell_type": "code",
   "execution_count": 37,
   "metadata": {},
   "outputs": [
    {
     "data": {
      "text/plain": [
       "'Samsung Galaxy S10'"
      ]
     },
     "execution_count": 37,
     "metadata": {},
     "output_type": "execute_result"
    }
   ],
   "source": [
    "# 클래스 Phone 인스턴스 'my_phone' 를 만들어봅시다. \n",
    "my_phone = Phone()\n",
    "my_phone.model  # UNKNOWN PHONE이 출력되면 윗 CLASS에서 빌려온 것\n",
    "my_phone.model = 'Samsung Galaxy S10'\n",
    "my_phone.model"
   ]
  },
  {
   "cell_type": "code",
   "execution_count": 39,
   "metadata": {},
   "outputs": [
    {
     "data": {
      "text/plain": [
       "False"
      ]
     },
     "execution_count": 39,
     "metadata": {},
     "output_type": "execute_result"
    }
   ],
   "source": [
    "# 켜져 있나 확인해 봅시다.\n",
    "my_phone.power"
   ]
  },
  {
   "cell_type": "code",
   "execution_count": 40,
   "metadata": {},
   "outputs": [
    {
     "name": "stdout",
     "output_type": "stream",
     "text": [
      "----------------\n",
      "Samsung Galaxy S10\n",
      "----------------\n"
     ]
    }
   ],
   "source": [
    "# 새 폰은 꺼져있으니 켜 봅시다.\n",
    "my_phone.on()"
   ]
  },
  {
   "cell_type": "code",
   "execution_count": 41,
   "metadata": {},
   "outputs": [
    {
     "data": {
      "text/plain": [
       "True"
      ]
     },
     "execution_count": 41,
     "metadata": {},
     "output_type": "execute_result"
    }
   ],
   "source": [
    "# 전원 상태를 확인해 봅시다.\n",
    "my_phone.power"
   ]
  },
  {
   "cell_type": "code",
   "execution_count": 42,
   "metadata": {},
   "outputs": [
    {
     "data": {
      "text/plain": [
       "'Samsung Galaxy S10'"
      ]
     },
     "execution_count": 42,
     "metadata": {},
     "output_type": "execute_result"
    }
   ],
   "source": [
    "# 폰의 모델명을 확인해 봅시다.\n",
    "my_phone.model"
   ]
  },
  {
   "cell_type": "code",
   "execution_count": 43,
   "metadata": {},
   "outputs": [],
   "source": [
    "# 모델을 바꿔 봅시다.\n",
    "my_phone.model = 'iPhone Xs max'"
   ]
  },
  {
   "cell_type": "code",
   "execution_count": 44,
   "metadata": {},
   "outputs": [
    {
     "data": {
      "text/plain": [
       "'iPhone Xs max'"
      ]
     },
     "execution_count": 44,
     "metadata": {},
     "output_type": "execute_result"
    }
   ],
   "source": [
    "# 폰 모델을 다시 확인해 봅시다.\n",
    "my_phone.model"
   ]
  },
  {
   "cell_type": "code",
   "execution_count": 47,
   "metadata": {},
   "outputs": [
    {
     "name": "stdout",
     "output_type": "stream",
     "text": [
      "--------OFF--------\n",
      "----------------\n",
      "iPhone Xs max\n",
      "----------------\n"
     ]
    }
   ],
   "source": [
    "# 폰을 껐다 켜 봅시다.\n",
    "my_phone.off()\n",
    "my_phone.on()"
   ]
  },
  {
   "cell_type": "code",
   "execution_count": 49,
   "metadata": {},
   "outputs": [
    {
     "data": {
      "text/plain": [
       "True"
      ]
     },
     "execution_count": 49,
     "metadata": {},
     "output_type": "execute_result"
    }
   ],
   "source": [
    "# my_phone 이 Phone 클래스의 인스턴스인지 확인해 봅시다.\n",
    "isinstance(my_phone, Phone)"
   ]
  },
  {
   "cell_type": "code",
   "execution_count": 50,
   "metadata": {},
   "outputs": [
    {
     "data": {
      "text/plain": [
       "True"
      ]
     },
     "execution_count": 50,
     "metadata": {},
     "output_type": "execute_result"
    }
   ],
   "source": [
    "# 같은 질문이지만, 다르게 물어 봅시다.\n",
    "type(my_phone) == Phone"
   ]
  },
  {
   "cell_type": "code",
   "execution_count": 51,
   "metadata": {},
   "outputs": [
    {
     "data": {
      "text/plain": [
       "__main__.Phone"
      ]
     },
     "execution_count": 51,
     "metadata": {},
     "output_type": "execute_result"
    }
   ],
   "source": [
    "# type을 확인해봅시다.\n",
    "type(my_phone)"
   ]
  },
  {
   "cell_type": "code",
   "execution_count": 56,
   "metadata": {},
   "outputs": [
    {
     "data": {
      "text/plain": [
       "<__main__.Phone at 0x25454f15710>"
      ]
     },
     "execution_count": 56,
     "metadata": {},
     "output_type": "execute_result"
    }
   ],
   "source": [
    "# my_phone 을 출력해 봅시다.\n",
    "my_phone"
   ]
  },
  {
   "cell_type": "code",
   "execution_count": 55,
   "metadata": {},
   "outputs": [
    {
     "name": "stdout",
     "output_type": "stream",
     "text": [
      "<__main__.Phone object at 0x0000025454F15710> 2561225611024\n"
     ]
    },
    {
     "data": {
      "text/plain": [
       "'0x25454f15710'"
      ]
     },
     "execution_count": 55,
     "metadata": {},
     "output_type": "execute_result"
    }
   ],
   "source": [
    "# my_phone 을 다르게 볼까요?\n",
    "print(my_phone, id(my_phone))\n",
    "hex(id(my_phone))"
   ]
  },
  {
   "cell_type": "code",
   "execution_count": null,
   "metadata": {},
   "outputs": [],
   "source": [
    "# python 출력의 비밀 __repr__ 과 __str__\n",
    "# 특정 객체를 print() 할 때 보이는 값과\n",
    "# 그냥 객체 자체가 보여주는 값도 사실 모두 우리가 바꿀 수 있습니다."
   ]
  },
  {
   "cell_type": "code",
   "execution_count": 57,
   "metadata": {},
   "outputs": [
    {
     "name": "stdout",
     "output_type": "stream",
     "text": [
      "print 안에 넣으면 제가 나와요.\n"
     ]
    },
    {
     "data": {
      "text/plain": [
       "그냥 객체는 아무말 없으면 이게 리턴돼요"
      ]
     },
     "execution_count": 57,
     "metadata": {},
     "output_type": "execute_result"
    }
   ],
   "source": [
    "# Phone 클래스를 만들어봅시다.\n",
    "class Phone:     # class 컨벤션: 첫글자는 늘 대문자이고, 띄어쓰기나 _ 없이 짓는다\n",
    "    power = False\n",
    "    number = ''\n",
    "    book = {}\n",
    "    model = 'UNKNOWN PHONE'\n",
    "    \n",
    "    def on(self):      #self는 class instance/객체가 스스로 들어가는 것을 지시\n",
    "        if not self.power:\n",
    "            self.power = True\n",
    "            print('----------------')\n",
    "            print(self.model)\n",
    "            print('----------------')\n",
    "            \n",
    "    def off(self):\n",
    "        if self.power:\n",
    "            self.power = False\n",
    "            print('--------OFF--------')\n",
    "    \n",
    "    def __repr__(self):\n",
    "        return '그냥 객체는 아무말 없으면 이게 리턴돼요'\n",
    "    \n",
    "    def __str__(self):\n",
    "        return 'print 안에 넣으면 제가 나와요.'\n",
    "    \n",
    "\n",
    "pp = Phone()\n",
    "print(pp)\n",
    "pp"
   ]
  },
  {
   "cell_type": "markdown",
   "metadata": {},
   "source": [
    "## MyList 만들기\n",
    "\n",
    "> 이제 배운 것을 활용하여 나만의 리스트 객체를 만들 수 있습니다. \n",
    ">\n",
    "> `class MyList:`\n",
    ">\n",
    "\n",
    "```\n",
    "* 클래스 변수\n",
    "data : 비어 있는 리스트\n",
    "\n",
    "* 메서드 \n",
    "append() : 값을 받아 data 에 추가합니다. 리턴 값은 없습니다.\n",
    "pop() : 마지막에 있는 값을 삭제하고, 해당 값을 리턴합니다.\n",
    "reverse() : 제자리에서 뒤집고 리턴 값은 없습니다.\n",
    "count(x) : x의 개수를 리턴합니다.\n",
    "clear() : 값을 모두 삭제합니다. 리턴값은 없습니다.\n",
    "\n",
    "__repr__() : ex) '내 리스트에는 [1, 2, 3] 이 담겨있다.'\n",
    "```"
   ]
  },
  {
   "cell_type": "code",
   "execution_count": 1,
   "metadata": {},
   "outputs": [],
   "source": [
    "# 아래에 코드를 작성해주세요.\n",
    "class MyList:\n",
    "    data = []\n",
    "    \n",
    "    def append(self, element):\n",
    "        self.data += [element]\n",
    "        \n",
    "    def pop(self):\n",
    "        p = self.data[-1]\n",
    "        self.data = self.data[:-1]\n",
    "        return p\n",
    "    \n",
    "    def reverse(self):\n",
    "        self.data = self.data[::-1]\n",
    "        \n",
    "    def count(self):\n",
    "        return len(self.data)\n",
    "    \n",
    "    def clear(self):\n",
    "        self.data = []\n",
    "        \n",
    "    def __repr__(self):\n",
    "        return f'내 리스트에는 {self.data}이 담겨있다.'"
   ]
  },
  {
   "cell_type": "code",
   "execution_count": 2,
   "metadata": {},
   "outputs": [
    {
     "data": {
      "text/plain": [
       "내 리스트에는 [1]이 담겨있다."
      ]
     },
     "execution_count": 2,
     "metadata": {},
     "output_type": "execute_result"
    }
   ],
   "source": [
    "# 확인해 봅시다. 각 해당 셀을 두번 이상 실행하면 이상하게 동작합니다. Python Tutor 에서 확인해 봅시다.\n",
    "# (모든 객체의 data 가 같은 리스트를 참조합니다.)\n",
    "m1 = MyList()\n",
    "m1.append(1)\n",
    "m1"
   ]
  },
  {
   "cell_type": "code",
   "execution_count": 3,
   "metadata": {},
   "outputs": [
    {
     "data": {
      "text/plain": [
       "내 리스트에는 [1, 3]이 담겨있다."
      ]
     },
     "execution_count": 3,
     "metadata": {},
     "output_type": "execute_result"
    }
   ],
   "source": [
    "m1 = MyList()\n",
    "m1.append(3)\n",
    "m1"
   ]
  },
  {
   "cell_type": "code",
   "execution_count": 4,
   "metadata": {},
   "outputs": [
    {
     "data": {
      "text/plain": [
       "내 리스트에는 [1, 3, 4]이 담겨있다."
      ]
     },
     "execution_count": 4,
     "metadata": {},
     "output_type": "execute_result"
    }
   ],
   "source": [
    "m1 = MyList()\n",
    "m1.append(4)\n",
    "m1"
   ]
  },
  {
   "cell_type": "code",
   "execution_count": 6,
   "metadata": {},
   "outputs": [
    {
     "data": {
      "text/plain": [
       "내 리스트에는 [4, 3, 1]이 담겨있다."
      ]
     },
     "execution_count": 6,
     "metadata": {},
     "output_type": "execute_result"
    }
   ],
   "source": [
    "m1 = MyList()\n",
    "m1.reverse()\n",
    "m1"
   ]
  },
  {
   "cell_type": "code",
   "execution_count": 8,
   "metadata": {},
   "outputs": [
    {
     "name": "stdout",
     "output_type": "stream",
     "text": [
      "1\n"
     ]
    },
    {
     "data": {
      "text/plain": [
       "내 리스트에는 [4, 3]이 담겨있다."
      ]
     },
     "execution_count": 8,
     "metadata": {},
     "output_type": "execute_result"
    }
   ],
   "source": [
    "print(m1.pop())\n",
    "m1"
   ]
  },
  {
   "cell_type": "code",
   "execution_count": 9,
   "metadata": {},
   "outputs": [
    {
     "data": {
      "text/plain": [
       "2"
      ]
     },
     "execution_count": 9,
     "metadata": {},
     "output_type": "execute_result"
    }
   ],
   "source": [
    "m1.count()"
   ]
  },
  {
   "cell_type": "code",
   "execution_count": 10,
   "metadata": {},
   "outputs": [
    {
     "data": {
      "text/plain": [
       "내 리스트에는 []이 담겨있다."
      ]
     },
     "execution_count": 10,
     "metadata": {},
     "output_type": "execute_result"
    }
   ],
   "source": [
    "m1.clear()\n",
    "m1"
   ]
  },
  {
   "cell_type": "markdown",
   "metadata": {},
   "source": [
    "## 용어 정리\n",
    "\n",
    "```python\n",
    "class Person:                     #=> 클래스 정의(선언) : 클래스 객체 생성\n",
    "    name = 'unknown'              #=> 멤버 변수(data attribute)\n",
    "    def greeting(self):           #=> 멤버 메서드(메서드)\n",
    "        return f'{self.name}' \n",
    "```\n",
    "    \n",
    "    \n",
    "```python\n",
    "richard = Person()      # 인스턴스 객체 생성\n",
    "tim = Person()          # 인스턴스 객체 생성\n",
    "tim.name                # 데이터 어트리뷰트 호출\n",
    "tim.greeting()          # 메서드 호출\n",
    "```"
   ]
  },
  {
   "cell_type": "code",
   "execution_count": 11,
   "metadata": {},
   "outputs": [],
   "source": [
    "# Person을 만들어봅시다.\n",
    "class Person:\n",
    "    name = 'person'\n",
    "    \n",
    "    def greeting(self):\n",
    "        return f'hi, i am {self.name}'\n",
    "    "
   ]
  },
  {
   "cell_type": "code",
   "execution_count": 18,
   "metadata": {},
   "outputs": [],
   "source": [
    "# 클래스와 인스턴스간의 관계를 확인해 봅시다.\n",
    "p1 = Person()\n",
    "p1.greeting()\n",
    "p2 = Person()"
   ]
  },
  {
   "cell_type": "markdown",
   "metadata": {},
   "source": [
    "##  `self` : 인스턴스 객체 자기자신\n",
    "\n",
    "* C++ 혹은 자바에서의 this 키워드와 동일함. \n",
    "\n",
    "* 특별한 상황을 제외하고는 **무조건 메서드에서 `self`를 첫번째 인자로 설정한다.**\n",
    "\n",
    "* 메서드는 인스턴스 객체가 함수의 첫번째 인자로 전달되도록 되어있다."
   ]
  },
  {
   "cell_type": "code",
   "execution_count": 19,
   "metadata": {},
   "outputs": [
    {
     "data": {
      "text/plain": [
       "'hi, i am 강동주'"
      ]
     },
     "execution_count": 19,
     "metadata": {},
     "output_type": "execute_result"
    }
   ],
   "source": [
    "# p1 의 이름을 자기 이름으로 바꾸고 다시 인사해 봅시다.\n",
    "p1.name = '유태영'\n",
    "p1.greeting()\n",
    "\n",
    "p2.name = '강동주'\n",
    "p2.greeting()\n"
   ]
  },
  {
   "cell_type": "code",
   "execution_count": 20,
   "metadata": {},
   "outputs": [
    {
     "data": {
      "text/plain": [
       "'hi, i am 강동주'"
      ]
     },
     "execution_count": 20,
     "metadata": {},
     "output_type": "execute_result"
    }
   ],
   "source": [
    "# 아까부터 궁금했던, 메서드 1번 인자 self 는 어디에 있는걸까요?\n",
    "# 실제로 이렇게 쓰지는 않지만 어떤 의미로는 이 코드가 더 직관적일 거에요.\n",
    "Person.greeting(p2)   # class 이름과 함수를 쓰고 self 자리에 인자의 이름을 써도 실행된다"
   ]
  },
  {
   "cell_type": "markdown",
   "metadata": {},
   "source": [
    "## 클래스-인스턴스간의 이름공간\n",
    "\n",
    "* 클래스를 정의하면, 클래스 객체가 생성되고 해당되는 이름 공간이 생성된다. \n",
    "\n",
    "* 인스턴스를 만들게 되면, 인스턴스 객체가 생성되고 해당되는 이름 공간이 생성된다. \n",
    "\n",
    "* 인스턴스의 어트리뷰트가 변경되면, 변경된 데이터를 인스턴스 객체 이름 공간에 저장한다.\n",
    "\n",
    "* 즉, 인스턴스에서 특정한 어트리뷰트에 접근하게 되면 인스턴스 => 클래스 순으로 탐색을 한다."
   ]
  },
  {
   "cell_type": "code",
   "execution_count": 21,
   "metadata": {},
   "outputs": [],
   "source": [
    "# 아래에서 확인해 봅시다.\n",
    "class Person:\n",
    "    name = 'person'\n",
    "    \n",
    "    def greeting(self):\n",
    "        return f'hi, i am {self.name}'\n",
    "    "
   ]
  },
  {
   "cell_type": "code",
   "execution_count": 22,
   "metadata": {},
   "outputs": [
    {
     "data": {
      "text/plain": [
       "'person'"
      ]
     },
     "execution_count": 22,
     "metadata": {},
     "output_type": "execute_result"
    }
   ],
   "source": [
    "# 아래에서 확인해 봅시다.\n",
    "p3 = Person()\n",
    "p3.name"
   ]
  },
  {
   "cell_type": "code",
   "execution_count": 23,
   "metadata": {},
   "outputs": [
    {
     "data": {
      "text/plain": [
       "'김싸피'"
      ]
     },
     "execution_count": 23,
     "metadata": {},
     "output_type": "execute_result"
    }
   ],
   "source": [
    "# 아래에서 p2 객체에게 이름을 지어 줍시다.\n",
    "p3.name = '김싸피'\n",
    "p3.name"
   ]
  },
  {
   "cell_type": "code",
   "execution_count": 25,
   "metadata": {},
   "outputs": [
    {
     "data": {
      "text/html": [
       "\n",
       "        <iframe\n",
       "            width=\"100%\"\n",
       "            height=\"500px\"\n",
       "            src=\"http://bit.do/oop_instro_00\"\n",
       "            frameborder=\"0\"\n",
       "            allowfullscreen\n",
       "        ></iframe>\n",
       "        "
      ],
      "text/plain": [
       "<IPython.lib.display.IFrame at 0x2267f6386a0>"
      ]
     },
     "execution_count": 25,
     "metadata": {},
     "output_type": "execute_result"
    }
   ],
   "source": [
    "# python tutor 를 통해 확인해 봅시다.\n",
    "IFrame('http://bit.do/oop_instro_00', width='100%', height='500px')"
   ]
  },
  {
   "cell_type": "markdown",
   "metadata": {},
   "source": [
    "## 생성자 / 소멸자\n",
    "\n",
    "* 생성자는 인스턴스 객체가 생성될 때 호출되는 함수이며, 소멸자는 객체가 소멸되는 과정에서 호출되는 함수입니다.\n",
    "\n",
    "```python\n",
    "def __init__(self):\n",
    "    print('생성될 때 자동으로 호출되는 메서드입니다.')\n",
    "    \n",
    "def __del__(self):\n",
    "    print('소멸될 때 자동으로 호출되는 메서드입니다.')\n",
    "```\n",
    "\n",
    "```\n",
    "__someting__\n",
    "```\n",
    "\n",
    "위의 형식처럼 양쪽에 언더스코어가 있는 메서드를 `스페셜 메서드` 혹은 `매직 메서드`라고 불립니다."
   ]
  },
  {
   "cell_type": "code",
   "execution_count": 26,
   "metadata": {},
   "outputs": [],
   "source": [
    "# 생성자와 소멸자를 만들어봅시다.\n",
    "class Person:\n",
    "    def __init__(self):\n",
    "        print('응애!')\n",
    "    \n",
    "    def __del__(self):\n",
    "        print('RIP')"
   ]
  },
  {
   "cell_type": "code",
   "execution_count": 33,
   "metadata": {},
   "outputs": [
    {
     "name": "stdout",
     "output_type": "stream",
     "text": [
      "응애!\n"
     ]
    }
   ],
   "source": [
    "# 생성해 봅시다.\n",
    "p4 = Person()   # 같은 이름이어도 init을 실행할 떄 마다 객체가 계속 새로 생성되고, name space에 있는 p4와 연결된다.\n",
    "                # 그 전에 연결되어 있던 객체는 사용할 수 없게 된다."
   ]
  },
  {
   "cell_type": "code",
   "execution_count": 34,
   "metadata": {},
   "outputs": [
    {
     "name": "stdout",
     "output_type": "stream",
     "text": [
      "RIP\n"
     ]
    }
   ],
   "source": [
    "# 소멸시켜 봅시다.\n",
    "# del p4\n",
    "p4 = 1   # 덮어쓰여서 그 전 것이 죽은 것"
   ]
  },
  {
   "cell_type": "code",
   "execution_count": 2,
   "metadata": {},
   "outputs": [],
   "source": [
    "# 생성자 역시 메서드(함수)기 때문에 추가인자를 받을 수 있습니다.\n",
    "class Person:\n",
    "    def __init__(self, name):\n",
    "        self.name = name\n",
    "        print(f'응애! 내 이름은 {self.name}')\n",
    "    \n",
    "    def __del__(self):\n",
    "        print(f'RIP - {self.name}')"
   ]
  },
  {
   "cell_type": "code",
   "execution_count": 3,
   "metadata": {},
   "outputs": [
    {
     "name": "stdout",
     "output_type": "stream",
     "text": [
      "응애! 내 이름은 ssafy\n"
     ]
    }
   ],
   "source": [
    "# 생성과 동시에 인스턴스 변수에 값을 할당합니다.\n",
    "me = Person('ssafy')"
   ]
  },
  {
   "cell_type": "markdown",
   "metadata": {},
   "source": [
    "## 실습 (종합)\n",
    "\n",
    "> 사실 이전에 작성한 Mylist는 완벽하지 않았습니다. \n",
    ">\n",
    "> 한번 제대로 된 자료구조를 만들어보겠습니다. \n",
    ">\n",
    "> `Stack` 클래스를 간략하게 구현해봅시다.\n",
    "\n",
    "> [Stack](https://ko.wikipedia.org/wiki/%EC%8A%A4%ED%83%9D) : 스택은 LIFO(Last in First Out)으로 구조화된 자료구조를 뜻합니다.\n",
    "\n",
    "1. `empty()`: 스택이 비었다면 True을 주고, 그렇지 않다면 False가 된다.\n",
    "\n",
    "2. `top()`: 스택의 가장 마지막 데이터를 넘겨준다. 스택이 비었다면 None을 리턴한다.\n",
    "\n",
    "3. `pop()`: 스택의 가장 마지막 데이터의 값을 넘겨주고, 해당 데이터를 삭제한다. 스택이 비었다면 None을 리턴한다.\n",
    "\n",
    "4. `push()`: 스택의 가장 마지막 데이터 뒤에 값을 추가한다. 리턴 값은 없다.\n",
    "\n",
    "**다 작성했다면 __repr__ 을 통해 예쁘게 출력까지 해봅시다.**"
   ]
  },
  {
   "cell_type": "code",
   "execution_count": 1,
   "metadata": {},
   "outputs": [],
   "source": [
    "# 여기에 코드를 작성해주세요.\n",
    "class Stack:\n",
    "    \n",
    "    def __init__(self, name):\n",
    "        self.stack = []\n",
    "        self.name = name\n",
    "        \n",
    "    def empty(self):\n",
    "        if not self.stack:\n",
    "            return True\n",
    "        elif self.stack:\n",
    "            return False\n",
    "    \n",
    "    def top(self):\n",
    "        if self.stack:\n",
    "            top_value = self.stack[-1]\n",
    "            return top_value\n",
    "        elif not self.stack:\n",
    "            return None\n",
    "    \n",
    "    def pop(self):\n",
    "        if self.stack:\n",
    "            pop_value = self.stack[-1]\n",
    "            self.stack = self.stack[:-1]\n",
    "            return pop_value\n",
    "        elif not self.stack:\n",
    "            return None\n",
    "    \n",
    "    def push(self, value):\n",
    "        self.stack += [value]\n",
    "        return None\n",
    "    \n",
    "    def __repr__(self):\n",
    "        return f'현재 stack은 {self.stack}으로 이루어져 있다.'\n",
    "                \n",
    "        "
   ]
  },
  {
   "cell_type": "code",
   "execution_count": 2,
   "metadata": {},
   "outputs": [],
   "source": [
    "first_commit = Stack('first_commit')"
   ]
  },
  {
   "cell_type": "code",
   "execution_count": 3,
   "metadata": {},
   "outputs": [
    {
     "data": {
      "text/plain": [
       "True"
      ]
     },
     "execution_count": 3,
     "metadata": {},
     "output_type": "execute_result"
    }
   ],
   "source": [
    "first_commit.empty()"
   ]
  },
  {
   "cell_type": "code",
   "execution_count": 4,
   "metadata": {},
   "outputs": [],
   "source": [
    "first_commit.push('ssafy')"
   ]
  },
  {
   "cell_type": "code",
   "execution_count": 6,
   "metadata": {},
   "outputs": [
    {
     "data": {
      "text/plain": [
       "False"
      ]
     },
     "execution_count": 6,
     "metadata": {},
     "output_type": "execute_result"
    }
   ],
   "source": [
    "first_commit.empty()"
   ]
  },
  {
   "cell_type": "code",
   "execution_count": 7,
   "metadata": {},
   "outputs": [],
   "source": [
    "first_commit.push('seoul')"
   ]
  },
  {
   "cell_type": "code",
   "execution_count": 8,
   "metadata": {},
   "outputs": [],
   "source": [
    "first_commit.push('non-major')"
   ]
  },
  {
   "cell_type": "code",
   "execution_count": 9,
   "metadata": {},
   "outputs": [
    {
     "data": {
      "text/plain": [
       "현재 stack은 ['ssafy', 'seoul', 'non-major']으로 이루어져 있다."
      ]
     },
     "execution_count": 9,
     "metadata": {},
     "output_type": "execute_result"
    }
   ],
   "source": [
    "first_commit"
   ]
  },
  {
   "cell_type": "code",
   "execution_count": 10,
   "metadata": {},
   "outputs": [
    {
     "data": {
      "text/plain": [
       "'non-major'"
      ]
     },
     "execution_count": 10,
     "metadata": {},
     "output_type": "execute_result"
    }
   ],
   "source": [
    "first_commit.pop()"
   ]
  },
  {
   "cell_type": "code",
   "execution_count": 11,
   "metadata": {},
   "outputs": [
    {
     "data": {
      "text/plain": [
       "현재 stack은 ['ssafy', 'seoul']으로 이루어져 있다."
      ]
     },
     "execution_count": 11,
     "metadata": {},
     "output_type": "execute_result"
    }
   ],
   "source": [
    "first_commit"
   ]
  },
  {
   "cell_type": "code",
   "execution_count": 12,
   "metadata": {},
   "outputs": [
    {
     "data": {
      "text/plain": [
       "'seoul'"
      ]
     },
     "execution_count": 12,
     "metadata": {},
     "output_type": "execute_result"
    }
   ],
   "source": [
    "first_commit.top()"
   ]
  },
  {
   "cell_type": "code",
   "execution_count": 13,
   "metadata": {},
   "outputs": [
    {
     "data": {
      "text/plain": [
       "현재 stack은 ['ssafy', 'seoul']으로 이루어져 있다."
      ]
     },
     "execution_count": 13,
     "metadata": {},
     "output_type": "execute_result"
    }
   ],
   "source": [
    "first_commit"
   ]
  },
  {
   "cell_type": "code",
   "execution_count": 14,
   "metadata": {},
   "outputs": [
    {
     "data": {
      "text/plain": [
       "'seoul'"
      ]
     },
     "execution_count": 14,
     "metadata": {},
     "output_type": "execute_result"
    }
   ],
   "source": [
    "first_commit.pop()"
   ]
  },
  {
   "cell_type": "code",
   "execution_count": 15,
   "metadata": {},
   "outputs": [
    {
     "data": {
      "text/plain": [
       "'ssafy'"
      ]
     },
     "execution_count": 15,
     "metadata": {},
     "output_type": "execute_result"
    }
   ],
   "source": [
    "first_commit.pop()"
   ]
  },
  {
   "cell_type": "code",
   "execution_count": 17,
   "metadata": {},
   "outputs": [
    {
     "data": {
      "text/plain": [
       "True"
      ]
     },
     "execution_count": 17,
     "metadata": {},
     "output_type": "execute_result"
    }
   ],
   "source": [
    "first_commit.empty()"
   ]
  },
  {
   "cell_type": "code",
   "execution_count": 25,
   "metadata": {},
   "outputs": [
    {
     "name": "stdout",
     "output_type": "stream",
     "text": [
      "None None\n"
     ]
    }
   ],
   "source": [
    "print(first_commit.top(), first_commit.pop())"
   ]
  },
  {
   "cell_type": "code",
   "execution_count": 50,
   "metadata": {},
   "outputs": [],
   "source": [
    "class Stack:\n",
    "    def __init__(self):\n",
    "        self.data = []\n",
    "    \n",
    "    def push(self, *element):\n",
    "        self.data += [element]\n",
    "        return None\n",
    "    \n",
    "    def pop(self):\n",
    "        p = self.data[-1]\n",
    "        self.data = self.data[:-1]\n",
    "        return p\n",
    "    \n",
    "    def is_empty(self):\n",
    "#         return not self.data\n",
    "        if len(self.data) == 0:\n",
    "            return True\n",
    "        else:\n",
    "            return False\n",
    "        \n",
    "    def top(self):\n",
    "        if len(self.data) == 0:\n",
    "            return None\n",
    "        else:\n",
    "            return self.data[-1]\n",
    "        \n",
    "    def __repr__(self):\n",
    "        show = []\n",
    "        show.append(' ___ ')\n",
    "        for e in self.data:\n",
    "            show.append(f'|{e}| \\n')\n",
    "        show.reverse()\n",
    "        return ''.join(show)"
   ]
  },
  {
   "cell_type": "code",
   "execution_count": 52,
   "metadata": {},
   "outputs": [
    {
     "data": {
      "text/plain": [
       "|(4,)| \n",
       "|(3,)| \n",
       "|(2,)| \n",
       "|(1,)| \n",
       " ___ "
      ]
     },
     "execution_count": 52,
     "metadata": {},
     "output_type": "execute_result"
    }
   ],
   "source": [
    "s = Stack()\n",
    "s.push(1)\n",
    "s.push(2)\n",
    "s.push(3)\n",
    "s.push(4)\n",
    "s"
   ]
  },
  {
   "cell_type": "markdown",
   "metadata": {},
   "source": [
    "## 포켓몬 구현하기\n",
    "\n",
    "> 피카츄를 클래스-인스턴스로 구현해 봅시다. 게임을 만든다면 아래와 같이 먼저 기획을 하고 코드로 구현하게 됩니다.\n",
    "우선 아래와 같이 구현해 보고, 추가로 본인이 원하는 대로 구현 및 수정해 봅시다.\n",
    "\n",
    "모든 피카츄는 다음과 같은 속성을 갖습니다.\n",
    "* `name`: 이름\n",
    "* `level`: 레벨\n",
    "    * 레벨은 시작할 때 모두 5 입니다.\n",
    "* `hp`: 체력\n",
    "    * 체력은 `level` * 20 입니다.\n",
    "* `exp`: 경험치\n",
    "    * 상대방을 쓰러뜨리면 상대방 `level` * 15 를 획득합니다.\n",
    "    * 경험치는 `level` * 100 이 되면, 레벨이 하나 올라가고 0부터 추가 됩니다. \n",
    "\n",
    "모든 피카츄는 다음과 같은 행동(메서드)을 할 수 있습니다.\n",
    "* `bark()`: 울기. `'pikachu'` 를 출력합니다.\n",
    "* `body_attack()`: 몸통박치기. 상대방의 hp 를 내 `level` * 5 만큼 차감합니다.\n",
    "* `thousand_volt()`: 십만볼트. 상대방의 hp 를 내 `level` * 7 만큼 차감합니다."
   ]
  },
  {
   "cell_type": "code",
   "execution_count": 92,
   "metadata": {},
   "outputs": [],
   "source": [
    "# 아래에 코드를 작성해주세요.\n",
    "class Pikachu:\n",
    "    def __init__(self, name='pikachu'):\n",
    "        self.name = name\n",
    "        self.level = 5\n",
    "        self.hp = self.level * 20\n",
    "        self.exp = 0\n",
    "        \n",
    "    def bark(self):\n",
    "        return 'pikachu'\n",
    "\n",
    "    def body_attack(self, opponent):\n",
    "        opponent.hp = opponent.hp - (self.level*5)\n",
    "        return f'{self.name}은 {opponent.name}을 공격했습니다. {opponent.name}의 hp는 {opponent.hp} 남았습니다.'\n",
    "    \n",
    "    def thousand_volt(self, opponent):\n",
    "        opponent.hp = opponent.hp - (self.level*7)\n",
    "        return f'{self.name}은 {opponent.name}을 공격했습니다. {opponent.name}의 hp는 {opponent.hp} 남았습니다.'\n",
    "    \n",
    "    def winning(self, opponent):\n",
    "        if opponent.hp == 0:\n",
    "            self.level = self.level * 15\n",
    "        if self.exp == self.level * 100:\n",
    "            self.level += 1\n",
    "        return f'{self.name}의 경험치가 {self.exp}로 상승했습니다! 레벨이 {self.level}이 되었습니다!'\n",
    "\n",
    "    \n",
    "class Battle:\n",
    "    def __init__(self, ongoing_status):\n",
    "        self.ongoing_status = True\n",
    "        self.player = Pikachu()\n",
    "        self.opponent = Pikachu()\n",
    "    \n",
    "    def status(self, player, opponent):\n",
    "        if (fighter1.hp - fighter2.hp) != 0:\n",
    "            ongoing_status = True\n",
    "        else:\n",
    "            ongoing_status = False\n",
    "        return ongoing_status\n",
    "    \n",
    "    def fight(self, player, opponent):\n",
    "        while self.status() == True:\n",
    "            if self.status() == False:\n",
    "                break\n",
    "                return 'Game End'\n",
    "            else:\n",
    "                attack_method = input('what\\'re you going to do? \\n 1)bark\\n2)body attack\\n3)thousand bolt \\n select number: ')\n",
    "                if attack_method == '1':\n",
    "                    return Pikachu.bark()                    \n",
    "                elif attack_method == '2':\n",
    "                    return Pikachu.body_attack(player, opponent)                    \n",
    "                elif attack_method == '3':\n",
    "                    return Pikachu.thousand_volt(player, opponent)\n"
   ]
  },
  {
   "cell_type": "markdown",
   "metadata": {},
   "source": [
    "### Workshop\n",
    "> 다음 조건에 맞는 Circle 클래스를 만들어 보세요.\n",
    "\n",
    "클래스 속성\n",
    "* `pi`: 3.14\n",
    "\n",
    "인스턴스 속성 (초기화 시 필요한 값들)\n",
    "* `r`: 원의 반지름 (필수 입력)\n",
    "* `x`: x좌표 (default 0)\n",
    "* `y`: y좌표 (default 0)\n",
    "\n",
    "인스턴스 메서드\n",
    "* `area()`: 원의 넓이를 반환\n",
    "* `circumference()`: 원의 둘레를 반환\n",
    "* `center()`: 원의 중심인 (x, y) 좌표를 튜플로 반환\n",
    "* `move(x, y)`: 원의 중심인 (x, y) 좌표를 입력받은 값으로 변경하고 변경된 좌표값을 튜플로 반환"
   ]
  },
  {
   "cell_type": "code",
   "execution_count": 75,
   "metadata": {},
   "outputs": [],
   "source": [
    "# 여기에 클래스를 정의하세요\n",
    "class Circle:\n",
    "    pi = 3.14\n",
    "    \n",
    "    def __init__(self, r):\n",
    "        self.r = r\n",
    "        self.x = 0\n",
    "        self.y = 0\n",
    "    \n",
    "    def area(self):\n",
    "        area = Circle.pi * (self.r ** 2)\n",
    "        return area\n",
    "    \n",
    "    def circumference(self):\n",
    "        circum = 2 * Circle.pi * self.r\n",
    "        return circum\n",
    "    \n",
    "    def center(self):\n",
    "        return (self.x, self.y)\n",
    "    \n",
    "    def move(self, x, y):\n",
    "        self.x = x\n",
    "        self.y = y\n",
    "        return (self.x, self.y)\n",
    "    "
   ]
  },
  {
   "cell_type": "code",
   "execution_count": 76,
   "metadata": {},
   "outputs": [],
   "source": [
    "first_circle = Circle(4)"
   ]
  },
  {
   "cell_type": "code",
   "execution_count": 80,
   "metadata": {},
   "outputs": [
    {
     "data": {
      "text/plain": [
       "(3, 5)"
      ]
     },
     "execution_count": 80,
     "metadata": {},
     "output_type": "execute_result"
    }
   ],
   "source": [
    "first_circle.center()"
   ]
  },
  {
   "cell_type": "code",
   "execution_count": 79,
   "metadata": {},
   "outputs": [
    {
     "data": {
      "text/plain": [
       "(3, 5)"
      ]
     },
     "execution_count": 79,
     "metadata": {},
     "output_type": "execute_result"
    }
   ],
   "source": [
    "first_circle.move(3, 5)"
   ]
  },
  {
   "cell_type": "code",
   "execution_count": 77,
   "metadata": {},
   "outputs": [
    {
     "data": {
      "text/plain": [
       "50.24"
      ]
     },
     "execution_count": 77,
     "metadata": {},
     "output_type": "execute_result"
    }
   ],
   "source": [
    "first_circle.area()"
   ]
  },
  {
   "cell_type": "code",
   "execution_count": 78,
   "metadata": {},
   "outputs": [
    {
     "data": {
      "text/plain": [
       "25.12"
      ]
     },
     "execution_count": 78,
     "metadata": {},
     "output_type": "execute_result"
    }
   ],
   "source": [
    "first_circle.circumference()"
   ]
  },
  {
   "cell_type": "code",
   "execution_count": 83,
   "metadata": {},
   "outputs": [],
   "source": [
    "class Circle:\n",
    "    pi = 3.14\n",
    "    \n",
    "    def __init__(self, r, x=0, y=0):\n",
    "        self.r = r\n",
    "        self.x = x\n",
    "        self.y = y\n",
    "    \n",
    "    def area(self):\n",
    "        return Circle.pi * (self.r**2)\n",
    "    \n",
    "    def circumference(self):\n",
    "        return 2 * Circle.pi * self.r\n",
    "    \n",
    "    def center(self):\n",
    "        return self.x, self.y    # Circle.x, Circle.y라고 하면 클래스 속성을 불러온다.\n",
    "    \n",
    "    def move(self, x, y):\n",
    "        self.x, self.y = x, y\n",
    "        return self.x, self.y"
   ]
  },
  {
   "cell_type": "code",
   "execution_count": 84,
   "metadata": {},
   "outputs": [],
   "source": [
    "c1 = Circle(10, -1, 3)"
   ]
  }
 ],
 "metadata": {
  "kernelspec": {
   "display_name": "Python 3",
   "language": "python",
   "name": "python3"
  },
  "language_info": {
   "codemirror_mode": {
    "name": "ipython",
    "version": 3
   },
   "file_extension": ".py",
   "mimetype": "text/x-python",
   "name": "python",
   "nbconvert_exporter": "python",
   "pygments_lexer": "ipython3",
   "version": "3.7.3"
  },
  "latex_envs": {
   "LaTeX_envs_menu_present": true,
   "autoclose": false,
   "autocomplete": true,
   "bibliofile": "biblio.bib",
   "cite_by": "apalike",
   "current_citInitial": 1,
   "eqLabelWithNumbers": true,
   "eqNumInitial": 1,
   "hotkeys": {
    "equation": "Ctrl-E",
    "itemize": "Ctrl-I"
   },
   "labels_anchors": false,
   "latex_user_defs": false,
   "report_style_numbering": false,
   "user_envs_cfg": false
  },
  "toc": {
   "base_numbering": 1,
   "nav_menu": {},
   "number_sections": true,
   "sideBar": true,
   "skip_h1_title": false,
   "title_cell": "Table of Contents",
   "title_sidebar": "Contents",
   "toc_cell": false,
   "toc_position": {
    "height": "calc(100% - 180px)",
    "left": "10px",
    "top": "150px",
    "width": "206.8px"
   },
   "toc_section_display": true,
   "toc_window_display": false
  }
 },
 "nbformat": 4,
 "nbformat_minor": 2
}
