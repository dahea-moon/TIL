{
 "cells": [
  {
   "cell_type": "markdown",
   "metadata": {},
   "source": [
    "### 1. 이상한 덧셈\n",
    "> 숫자로 구성된 리스트에서 양의 정수의 합을 구하는 함수, `positive_sum` 을 만들어 보아요\n",
    "\n",
    "예시)\n",
    "```python\n",
    "positive_sum([1, -10, 2]) # 3\n",
    "positive_sum([-1, -2, -3, -4]) # 0\n",
    "```"
   ]
  },
  {
   "cell_type": "code",
   "execution_count": 5,
   "metadata": {},
   "outputs": [
    {
     "data": {
      "text/plain": [
       "0"
      ]
     },
     "execution_count": 5,
     "metadata": {},
     "output_type": "execute_result"
    }
   ],
   "source": [
    "# 이상한 덧셈\n",
    "def positive_sum(*args):\n",
    "    result = 0\n",
    "    for number in args:\n",
    "        if number > 0:\n",
    "            result += number\n",
    "            \n",
    "    return result\n",
    "\n",
    "positive_sum(-1, -10, -2)\n"
   ]
  },
  {
   "cell_type": "code",
   "execution_count": 1,
   "metadata": {},
   "outputs": [
    {
     "data": {
      "text/plain": [
       "3"
      ]
     },
     "execution_count": 1,
     "metadata": {},
     "output_type": "execute_result"
    }
   ],
   "source": [
    "# 풀이\n",
    "def positive_sum(numbers):\n",
    "    sum = 0 \n",
    "    for n in numbers:\n",
    "        if n > 0:\n",
    "            sum += n\n",
    "    return sum\n",
    "\n",
    "positive_sum([1, -10, 2])"
   ]
  },
  {
   "cell_type": "code",
   "execution_count": 6,
   "metadata": {},
   "outputs": [],
   "source": [
    "# list comprehension => list => return sum(list)\n",
    "def positive_sum_lc(numbers):\n",
    "    result = [n for n in number if n > 0]\n",
    "    return sum(result)    \n",
    "\n",
    "# list => filter() => list(filter object)\n",
    "def positive_sum_filter(numbers):\n",
    "    def is_pos(n):\n",
    "        return n > 0\n",
    "    \n",
    "    return sum(filter(is_pos, numbers))\n"
   ]
  },
  {
   "cell_type": "markdown",
   "metadata": {},
   "source": [
    "### 2. 문자열 탐색\n",
    "> 문자열 요소로만 이루어진 리스트를 넣었을 때, 문자열의 길이가 2 이상이고 주어진 문자열의 첫 번째와 마지막 문자가 같은 문자열의 수를 세는 함수 `start_end` 를 작성하세요\n",
    "\n",
    "예시)\n",
    "```python\n",
    "keywords = ['level', 'asdwe', 's', 'abadsfa', 'q1q']\n",
    "start_end(keywords) # 3\n",
    "```"
   ]
  },
  {
   "cell_type": "code",
   "execution_count": 6,
   "metadata": {},
   "outputs": [
    {
     "data": {
      "text/plain": [
       "3"
      ]
     },
     "execution_count": 6,
     "metadata": {},
     "output_type": "execute_result"
    }
   ],
   "source": [
    "# 문자열 탐색\n",
    "def start_end(*args):\n",
    "    count = 0\n",
    "    for keyword in keywords:\n",
    "        if len(keyword) > 1 and keyword[0] == keyword[-1]:\n",
    "            count += 1\n",
    "    return count\n",
    "\n",
    "keywords = ['level', 'asdwe', 's', 'abadsfa', 'q1q']\n",
    "start_end(keywords)"
   ]
  },
  {
   "cell_type": "code",
   "execution_count": 7,
   "metadata": {},
   "outputs": [],
   "source": [
    "def start_end(words):\n",
    "    count = 0\n",
    "    for word in words:\n",
    "        if len(word)>=2 and word[0]==word[-1]:\n",
    "            count += 1\n",
    "    return count"
   ]
  },
  {
   "cell_type": "markdown",
   "metadata": {},
   "source": [
    "### 3. Collatz\n",
    "> Collatz 추측: 어떤 자연수 n 이던지, 다음과 같은 작업을 반복하면 1로 만들수 있다.\n",
    "1. n이 짝수라면 2로 나눈다.\n",
    "2. n이 홀수라면 3을 곱하고 1을 더한다.\n",
    "3. 결과로 나온 수에 1번과 2번의 작업을 1이 될때까지 반복한다.\n",
    "\n",
    "> 예를 들어 n 이 6이면, 6 => 3 => 10 => 5 => 16 => 8 => 4 => 2 => 1 이 되며 8번(=> 갯수!)만에 1이 됩니다. 자연수 n이 들어왔을 때, 몇 번의 작업만에 1이 되는 지를 `return` 하는 함수 `collatz()` 를 완성하세요\n",
    "\n",
    "> 단! 500 번을 넘어가도 1이 되지 않는다면, -1을 `return` 할게요!\n",
    "\n",
    "예시)\n",
    "```python\n",
    "collatz(6) # 8\n",
    "collatz(16) # 4\n",
    "collatz(626331) # -1\n",
    "```"
   ]
  },
  {
   "cell_type": "code",
   "execution_count": 4,
   "metadata": {},
   "outputs": [
    {
     "data": {
      "text/plain": [
       "4"
      ]
     },
     "execution_count": 4,
     "metadata": {},
     "output_type": "execute_result"
    }
   ],
   "source": [
    "# c\n",
    "def collatz(n):\n",
    "    count = 0\n",
    "    while n != 1:\n",
    "        if n % 2 == 0:\n",
    "            n = n / 2\n",
    "            count += 1\n",
    "            if count > 500:\n",
    "                return -1\n",
    "        else:\n",
    "            n = (n * 3) + 1\n",
    "            count += 1\n",
    "            if count > 500:\n",
    "                return -1            \n",
    "    return count\n",
    "        \n",
    "collatz(16)"
   ]
  },
  {
   "cell_type": "code",
   "execution_count": 10,
   "metadata": {},
   "outputs": [
    {
     "data": {
      "text/plain": [
       "8"
      ]
     },
     "execution_count": 10,
     "metadata": {},
     "output_type": "execute_result"
    }
   ],
   "source": [
    "def collatz(n):\n",
    "    for i in range(500):\n",
    "        n = n*3 + 1 if n % 2 else n / 2\n",
    "        if n == 1:\n",
    "            return i + 1\n",
    "    else:\n",
    "        return -1\n",
    "    \n",
    "collatz(6)"
   ]
  }
 ],
 "metadata": {
  "kernelspec": {
   "display_name": "Python 3",
   "language": "python",
   "name": "python3"
  },
  "language_info": {
   "codemirror_mode": {
    "name": "ipython",
    "version": 3
   },
   "file_extension": ".py",
   "mimetype": "text/x-python",
   "name": "python",
   "nbconvert_exporter": "python",
   "pygments_lexer": "ipython3",
   "version": "3.7.3"
  },
  "toc": {
   "base_numbering": 1,
   "nav_menu": {},
   "number_sections": true,
   "sideBar": true,
   "skip_h1_title": false,
   "title_cell": "Table of Contents",
   "title_sidebar": "Contents",
   "toc_cell": false,
   "toc_position": {},
   "toc_section_display": true,
   "toc_window_display": false
  }
 },
 "nbformat": 4,
 "nbformat_minor": 2
}
